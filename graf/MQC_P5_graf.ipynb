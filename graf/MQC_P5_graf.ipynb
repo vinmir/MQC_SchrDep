{
 "cells": [
  {
   "cell_type": "markdown",
   "id": "c1188384-b714-4b71-9760-4d0a6b2f7060",
   "metadata": {},
   "source": [
    "# MQC - Projeto 5"
   ]
  },
  {
   "cell_type": "markdown",
   "id": "e3bf2efd-4bd0-4a12-856d-e2e8a372c5fc",
   "metadata": {},
   "source": [
    "O processo de animação é ridiculamente difícil de encontrar documentação decente.\n",
    "+ [Animated line plot](https://matplotlib.org/stable/gallery/animation/simple_anim.html?highlight=animation)\n",
    "    + Veio da documentação oficial. Até o momento, foi o mais conciso que encontrei. É suficiente para o que quero fazer.\n",
    "+ [Save animation in gif](https://stackoverflow.com/questions/25140952/matplotlib-save-animation-in-gif-error)\n",
    "+ [Matplotlib animation tutorial](https://jakevdp.github.io/blog/2012/08/18/matplotlib-animation-tutorial/)\n",
    "+ [Stop animation loop](https://stackoverflow.com/questions/35111351/stop-gif-image-from-repeating-in-matplotlib)\n",
    "    + Recomendam salvar vários pngs e criar o gif com ImageMagick\n",
    "\n",
    "# !!!!!!!!!!!!!ATENÇÃO!!!!!!!!!!!!!\n",
    "(sim, isto merece a quantidade de \"!\" que empreguei).\n",
    "A animação apenas será bem concluída caso o %matplotlib esteja em `tk`. Por quê? Não sei, não quero saber e tenho raiva de quem sabe."
   ]
  },
  {
   "cell_type": "code",
   "execution_count": 1,
   "id": "5ff8c4ca-baff-4a5e-97cd-3b26cff2ad48",
   "metadata": {},
   "outputs": [],
   "source": [
    "import numpy as np\n",
    "# import numba as nb\n",
    "# from numba import jit, njit\n",
    "import matplotlib.pyplot as plt\n",
    "# # import os\n",
    "plt.rcParams.update({\n",
    "    \"text.usetex\": True,\n",
    "    \"font.family\": \"serif\",\n",
    "    \"font.serif\": [\"Palatino\"],\n",
    "    \"font.size\": 12\n",
    "})\n",
    "from sklearn.metrics import r2_score\n",
    "import uncertainties as unc\n",
    "import uncertainties.unumpy as unumpy\n",
    "from scipy.optimize import curve_fit\n",
    "from scipy.stats import linregress\n",
    "\n",
    "# import matplotlib.animation as animation"
   ]
  },
  {
   "cell_type": "markdown",
   "id": "dbd0fd81-d986-43b9-8184-9dd2559a3f6f",
   "metadata": {},
   "source": [
    "# Problema 1"
   ]
  },
  {
   "cell_type": "markdown",
   "id": "87e2c864-20ab-41cb-ba63-0310bc9c63df",
   "metadata": {},
   "source": [
    "## 1-c)"
   ]
  },
  {
   "cell_type": "code",
   "execution_count": 49,
   "id": "2e8b9726-e454-49dc-8609-aed98e3bd5d2",
   "metadata": {},
   "outputs": [],
   "source": [
    "data = r\"/home/vinicius/Vinicius/USP/Semestres/2022 (01)/MQ Computacional/Projeto 5/prog/ex1-c/out/psi_x_t.dat\"\n",
    "data_arr = np.loadtxt(data,skiprows=1)"
   ]
  },
  {
   "cell_type": "code",
   "execution_count": 50,
   "id": "dcc9a848-e013-41ef-937a-704383598757",
   "metadata": {},
   "outputs": [],
   "source": [
    "t,x,psi=data_arr.T"
   ]
  },
  {
   "cell_type": "code",
   "execution_count": 51,
   "id": "663da7cd-53c4-4dc2-94a8-fc1947ed7c19",
   "metadata": {},
   "outputs": [],
   "source": [
    "x=x.reshape(201,2001)\n",
    "t=t.reshape(201,2001)\n",
    "psi=psi.reshape(201,2001)"
   ]
  },
  {
   "cell_type": "code",
   "execution_count": 52,
   "id": "72ae4e8e-a766-41ac-8ee4-29bee18410eb",
   "metadata": {},
   "outputs": [],
   "source": [
    "x=x[0,:]"
   ]
  },
  {
   "cell_type": "code",
   "execution_count": 10,
   "id": "ffda053b-74cf-457d-adb6-b2b17021ae22",
   "metadata": {},
   "outputs": [
    {
     "ename": "IndexError",
     "evalue": "index 29 is out of bounds for axis 0 with size 29",
     "output_type": "error",
     "traceback": [
      "\u001b[0;31m---------------------------------------------------------------------------\u001b[0m",
      "\u001b[0;31mIndexError\u001b[0m                                Traceback (most recent call last)",
      "Input \u001b[0;32mIn [10]\u001b[0m, in \u001b[0;36m<cell line: 34>\u001b[0;34m()\u001b[0m\n\u001b[1;32m     24\u001b[0m line\u001b[38;5;241m.\u001b[39mset_color(\u001b[38;5;124m\"\u001b[39m\u001b[38;5;124mblack\u001b[39m\u001b[38;5;124m\"\u001b[39m)\n\u001b[1;32m     25\u001b[0m \u001b[38;5;66;03m# To save the animation, use e.g.\u001b[39;00m\n\u001b[1;32m     26\u001b[0m \u001b[38;5;66;03m#\u001b[39;00m\n\u001b[1;32m     27\u001b[0m \u001b[38;5;66;03m# ani.save(\"movie.mp4\")\u001b[39;00m\n\u001b[0;32m   (...)\u001b[0m\n\u001b[1;32m     32\u001b[0m \u001b[38;5;66;03m#     fps=15, metadata=dict(artist='Me'), bitrate=1800)\u001b[39;00m\n\u001b[1;32m     33\u001b[0m \u001b[38;5;66;03m# ani.save(\"movie.mp4\", writer=writer)\u001b[39;00m\n\u001b[0;32m---> 34\u001b[0m \u001b[43mani\u001b[49m\u001b[38;5;241;43m.\u001b[39;49m\u001b[43msave\u001b[49m\u001b[43m(\u001b[49m\u001b[38;5;124;43m\"\u001b[39;49m\u001b[38;5;124;43mteste.gif\u001b[39;49m\u001b[38;5;124;43m\"\u001b[39;49m\u001b[43m)\u001b[49m\n\u001b[1;32m     35\u001b[0m plt\u001b[38;5;241m.\u001b[39mpause(\u001b[38;5;241m1\u001b[39m)\n\u001b[1;32m     36\u001b[0m \u001b[38;5;66;03m# plt.show()\u001b[39;00m\n",
      "File \u001b[0;32m~/anaconda3/lib/python3.9/site-packages/matplotlib/animation.py:1091\u001b[0m, in \u001b[0;36mAnimation.save\u001b[0;34m(self, filename, writer, fps, dpi, codec, bitrate, extra_args, metadata, extra_anim, savefig_kwargs, progress_callback)\u001b[0m\n\u001b[1;32m   1088\u001b[0m \u001b[38;5;28;01mfor\u001b[39;00m data \u001b[38;5;129;01min\u001b[39;00m \u001b[38;5;28mzip\u001b[39m(\u001b[38;5;241m*\u001b[39m[a\u001b[38;5;241m.\u001b[39mnew_saved_frame_seq() \u001b[38;5;28;01mfor\u001b[39;00m a \u001b[38;5;129;01min\u001b[39;00m all_anim]):\n\u001b[1;32m   1089\u001b[0m     \u001b[38;5;28;01mfor\u001b[39;00m anim, d \u001b[38;5;129;01min\u001b[39;00m \u001b[38;5;28mzip\u001b[39m(all_anim, data):\n\u001b[1;32m   1090\u001b[0m         \u001b[38;5;66;03m# TODO: See if turning off blit is really necessary\u001b[39;00m\n\u001b[0;32m-> 1091\u001b[0m         \u001b[43manim\u001b[49m\u001b[38;5;241;43m.\u001b[39;49m\u001b[43m_draw_next_frame\u001b[49m\u001b[43m(\u001b[49m\u001b[43md\u001b[49m\u001b[43m,\u001b[49m\u001b[43m \u001b[49m\u001b[43mblit\u001b[49m\u001b[38;5;241;43m=\u001b[39;49m\u001b[38;5;28;43;01mFalse\u001b[39;49;00m\u001b[43m)\u001b[49m\n\u001b[1;32m   1092\u001b[0m         \u001b[38;5;28;01mif\u001b[39;00m progress_callback \u001b[38;5;129;01mis\u001b[39;00m \u001b[38;5;129;01mnot\u001b[39;00m \u001b[38;5;28;01mNone\u001b[39;00m:\n\u001b[1;32m   1093\u001b[0m             progress_callback(frame_number, total_frames)\n",
      "File \u001b[0;32m~/anaconda3/lib/python3.9/site-packages/matplotlib/animation.py:1126\u001b[0m, in \u001b[0;36mAnimation._draw_next_frame\u001b[0;34m(self, framedata, blit)\u001b[0m\n\u001b[1;32m   1122\u001b[0m \u001b[38;5;28;01mdef\u001b[39;00m \u001b[38;5;21m_draw_next_frame\u001b[39m(\u001b[38;5;28mself\u001b[39m, framedata, blit):\n\u001b[1;32m   1123\u001b[0m     \u001b[38;5;66;03m# Breaks down the drawing of the next frame into steps of pre- and\u001b[39;00m\n\u001b[1;32m   1124\u001b[0m     \u001b[38;5;66;03m# post- draw, as well as the drawing of the frame itself.\u001b[39;00m\n\u001b[1;32m   1125\u001b[0m     \u001b[38;5;28mself\u001b[39m\u001b[38;5;241m.\u001b[39m_pre_draw(framedata, blit)\n\u001b[0;32m-> 1126\u001b[0m     \u001b[38;5;28;43mself\u001b[39;49m\u001b[38;5;241;43m.\u001b[39;49m\u001b[43m_draw_frame\u001b[49m\u001b[43m(\u001b[49m\u001b[43mframedata\u001b[49m\u001b[43m)\u001b[49m\n\u001b[1;32m   1127\u001b[0m     \u001b[38;5;28mself\u001b[39m\u001b[38;5;241m.\u001b[39m_post_draw(framedata, blit)\n",
      "File \u001b[0;32m~/anaconda3/lib/python3.9/site-packages/matplotlib/animation.py:1720\u001b[0m, in \u001b[0;36mFuncAnimation._draw_frame\u001b[0;34m(self, framedata)\u001b[0m\n\u001b[1;32m   1716\u001b[0m \u001b[38;5;28mself\u001b[39m\u001b[38;5;241m.\u001b[39m_save_seq \u001b[38;5;241m=\u001b[39m \u001b[38;5;28mself\u001b[39m\u001b[38;5;241m.\u001b[39m_save_seq[\u001b[38;5;241m-\u001b[39m\u001b[38;5;28mself\u001b[39m\u001b[38;5;241m.\u001b[39msave_count:]\n\u001b[1;32m   1718\u001b[0m \u001b[38;5;66;03m# Call the func with framedata and args. If blitting is desired,\u001b[39;00m\n\u001b[1;32m   1719\u001b[0m \u001b[38;5;66;03m# func needs to return a sequence of any artists that were modified.\u001b[39;00m\n\u001b[0;32m-> 1720\u001b[0m \u001b[38;5;28mself\u001b[39m\u001b[38;5;241m.\u001b[39m_drawn_artists \u001b[38;5;241m=\u001b[39m \u001b[38;5;28;43mself\u001b[39;49m\u001b[38;5;241;43m.\u001b[39;49m\u001b[43m_func\u001b[49m\u001b[43m(\u001b[49m\u001b[43mframedata\u001b[49m\u001b[43m,\u001b[49m\u001b[43m \u001b[49m\u001b[38;5;241;43m*\u001b[39;49m\u001b[38;5;28;43mself\u001b[39;49m\u001b[38;5;241;43m.\u001b[39;49m\u001b[43m_args\u001b[49m\u001b[43m)\u001b[49m\n\u001b[1;32m   1722\u001b[0m \u001b[38;5;28;01mif\u001b[39;00m \u001b[38;5;28mself\u001b[39m\u001b[38;5;241m.\u001b[39m_blit:\n\u001b[1;32m   1724\u001b[0m     err \u001b[38;5;241m=\u001b[39m \u001b[38;5;167;01mRuntimeError\u001b[39;00m(\u001b[38;5;124m'\u001b[39m\u001b[38;5;124mThe animation function must return a sequence \u001b[39m\u001b[38;5;124m'\u001b[39m\n\u001b[1;32m   1725\u001b[0m                        \u001b[38;5;124m'\u001b[39m\u001b[38;5;124mof Artist objects.\u001b[39m\u001b[38;5;124m'\u001b[39m)\n",
      "Input \u001b[0;32mIn [10]\u001b[0m, in \u001b[0;36manimate\u001b[0;34m(i)\u001b[0m\n\u001b[1;32m     13\u001b[0m \u001b[38;5;28;01mdef\u001b[39;00m \u001b[38;5;21manimate\u001b[39m(i):\n\u001b[0;32m---> 14\u001b[0m     line\u001b[38;5;241m.\u001b[39mset_ydata(\u001b[43mpsi\u001b[49m\u001b[43m[\u001b[49m\u001b[43mi\u001b[49m\u001b[43m,\u001b[49m\u001b[43m:\u001b[49m\u001b[43m]\u001b[49m)  \u001b[38;5;66;03m# update the data.\u001b[39;00m\n\u001b[1;32m     15\u001b[0m     \u001b[38;5;28;01mreturn\u001b[39;00m line,\n",
      "\u001b[0;31mIndexError\u001b[0m: index 29 is out of bounds for axis 0 with size 29"
     ]
    },
    {
     "name": "stderr",
     "output_type": "stream",
     "text": [
      "Exception in Tkinter callback\n",
      "Traceback (most recent call last):\n",
      "  File \"/home/vinicius/anaconda3/lib/python3.9/tkinter/__init__.py\", line 1892, in __call__\n",
      "    return self.func(*args)\n",
      "  File \"/home/vinicius/anaconda3/lib/python3.9/tkinter/__init__.py\", line 814, in callit\n",
      "    func(*args)\n",
      "  File \"/home/vinicius/anaconda3/lib/python3.9/site-packages/matplotlib/backends/_backend_tk.py\", line 141, in _on_timer\n",
      "    super()._on_timer()\n",
      "  File \"/home/vinicius/anaconda3/lib/python3.9/site-packages/matplotlib/backend_bases.py\", line 1198, in _on_timer\n",
      "    ret = func(*args, **kwargs)\n",
      "  File \"/home/vinicius/anaconda3/lib/python3.9/site-packages/matplotlib/animation.py\", line 1408, in _step\n",
      "    still_going = super()._step(*args)\n",
      "  File \"/home/vinicius/anaconda3/lib/python3.9/site-packages/matplotlib/animation.py\", line 1107, in _step\n",
      "    self._draw_next_frame(framedata, self._blit)\n",
      "  File \"/home/vinicius/anaconda3/lib/python3.9/site-packages/matplotlib/animation.py\", line 1126, in _draw_next_frame\n",
      "    self._draw_frame(framedata)\n",
      "  File \"/home/vinicius/anaconda3/lib/python3.9/site-packages/matplotlib/animation.py\", line 1720, in _draw_frame\n",
      "    self._drawn_artists = self._func(framedata, *self._args)\n",
      "  File \"/tmp/ipykernel_73593/4031240982.py\", line 14, in animate\n",
      "    line.set_ydata(psi[i,:])  # update the data.\n",
      "IndexError: index 29 is out of bounds for axis 0 with size 29\n"
     ]
    }
   ],
   "source": [
    "import numpy as np\n",
    "import matplotlib.pyplot as plt\n",
    "import matplotlib.animation as animation\n",
    "%matplotlib tk\n",
    "\n",
    "fig, ax = plt.subplots()\n",
    "\n",
    "# x = np.arange(0, 2*np.pi, 0.01)\n",
    "line, = ax.plot(x, 0*x)\n",
    "\n",
    "\n",
    "\n",
    "def animate(i):\n",
    "    line.set_ydata(psi[i,:])  # update the data.\n",
    "    return line,\n",
    "\n",
    "\n",
    "ani = animation.FuncAnimation(\n",
    "    fig, animate, interval=20, blit=True, save_count=200)\n",
    "\n",
    "ax.set(xlim=(-10,10),ylim=(0,1.2),\n",
    "      ylabel=r\"$|\\psi(x,t)|^2$ [U.A.]\",xlabel=\"$x$ [U.A.]\")\n",
    "ax.grid(True)\n",
    "line.set_color(\"black\")\n",
    "# To save the animation, use e.g.\n",
    "#\n",
    "# ani.save(\"movie.mp4\")\n",
    "#\n",
    "# or\n",
    "#\n",
    "# writer = animation.FFMpegWriter(\n",
    "#     fps=15, metadata=dict(artist='Me'), bitrate=1800)\n",
    "# ani.save(\"movie.mp4\", writer=writer)\n",
    "ani.save(\"teste.gif\")\n",
    "# plt.show()\n",
    "plt.close()"
   ]
  },
  {
   "cell_type": "code",
   "execution_count": 35,
   "id": "11a33fb7-9a07-48ad-8efc-b3fb13e44475",
   "metadata": {},
   "outputs": [],
   "source": [
    "dt=0.04712389\n",
    "j=72\n",
    "t=j*dt\n",
    "fig,ax = plt.subplots()\n",
    "ax.plot(x,psi[j,:],label=fr\"$t={t}$\",c=\"k\")\n",
    "ax.set(xlim=(-10,10),ylim=(0,1.2),\n",
    "      ylabel=r\"$|\\psi(x,t)|^2$ [U.A.]\",xlabel=\"$x$ [U.A.]\")\n",
    "ax.grid(True)\n",
    "ax.legend()\n",
    "fig.savefig(f\"ex1/1-c_t{t}.pdf\",bbox_inches=\"tight\")"
   ]
  },
  {
   "cell_type": "markdown",
   "id": "f209b61b-21d8-4202-a4bc-6354bd54d38a",
   "metadata": {
    "tags": []
   },
   "source": [
    "## 1-d)"
   ]
  },
  {
   "cell_type": "code",
   "execution_count": 47,
   "id": "d86cb32e-022a-4953-9e2f-a56216d28fc9",
   "metadata": {},
   "outputs": [],
   "source": [
    "data = r\"/home/vinicius/Vinicius/USP/Semestres/2022 (01)/MQ Computacional/Projeto 5/prog/ex1-d/out/psi_x_t.dat\"\n",
    "data_arr = np.loadtxt(data,skiprows=1)\n",
    "\n",
    "t,x,psi=data_arr.T\n",
    "\n",
    "Q=200;M=2000\n",
    "x=x.reshape(Q+1,M+1)\n",
    "t=t.reshape(Q+1,M+1)\n",
    "psi=psi.reshape(Q+1,M+1)\n",
    "\n",
    "x=x[0,:]"
   ]
  },
  {
   "cell_type": "code",
   "execution_count": 78,
   "id": "8e1a3908-d138-4eb7-8705-4e9e8528d4c4",
   "metadata": {},
   "outputs": [],
   "source": [
    "import numpy as np\n",
    "import matplotlib.pyplot as plt\n",
    "import matplotlib.animation as animation\n",
    "%matplotlib tk\n",
    "\n",
    "fig, ax = plt.subplots()\n",
    "\n",
    "# x = np.arange(0, 2*np.pi, 0.01)\n",
    "line, = ax.plot(x, 0*x)\n",
    "\n",
    "\n",
    "\n",
    "def animate(i):\n",
    "    line.set_ydata(psi[i,:])  # update the data.\n",
    "    return line,\n",
    "\n",
    "\n",
    "ani = animation.FuncAnimation(\n",
    "    fig, animate, interval=20, blit=True, save_count=Q)\n",
    "\n",
    "ax.set(xlim=(-10,10),ylim=(0,1.2),\n",
    "      ylabel=r\"$|\\psi(x,t)|^2$ [U.A.]\",xlabel=\"$x$ [U.A.]\")\n",
    "ax.grid(True)\n",
    "line.set_color(\"black\")\n",
    "line.set_label(r\"$\\langle n \\rangle = 1$\")\n",
    "ax.legend()\n",
    "# To save the animation, use e.g.\n",
    "#\n",
    "# ani.save(\"movie.mp4\")\n",
    "#\n",
    "# or\n",
    "#\n",
    "# writer = animation.FFMpegWriter(\n",
    "#     fps=15, metadata=dict(artist='Me'), bitrate=1800)\n",
    "# ani.save(\"movie.mp4\", writer=writer)\n",
    "ani.save(\"coerente.gif\")\n",
    "# plt.show()\n",
    "plt.close()"
   ]
  },
  {
   "cell_type": "code",
   "execution_count": 48,
   "id": "91a28713-908c-4db8-85fb-3cd7cc31aeef",
   "metadata": {},
   "outputs": [],
   "source": [
    "dt=0.04712389\n",
    "j=67\n",
    "t=j*dt\n",
    "fig,ax = plt.subplots()\n",
    "ax.plot(x,psi[j,:],label=fr\"$t={t}$\",c=\"k\")\n",
    "ax.set(xlim=(-10,10),ylim=(0,1.2),\n",
    "      ylabel=r\"$|\\psi(x,t)|^2$ [U.A.]\",xlabel=\"$x$ [U.A.]\")\n",
    "ax.grid(True)\n",
    "ax.legend()\n",
    "fig.savefig(f\"ex1/1-d_t{t}.pdf\",bbox_inches=\"tight\")"
   ]
  },
  {
   "cell_type": "markdown",
   "id": "3e4a4586-3496-41da-8b5b-7119a079b999",
   "metadata": {},
   "source": [
    "# Problema 2"
   ]
  },
  {
   "cell_type": "markdown",
   "id": "586b484b-f496-4cad-8280-a91dc51ba205",
   "metadata": {},
   "source": [
    "# 2-a,b)"
   ]
  },
  {
   "cell_type": "code",
   "execution_count": 41,
   "id": "5b6623cb-c40d-4897-b036-606eea875975",
   "metadata": {},
   "outputs": [],
   "source": [
    "data = r\"/home/vinicius/Vinicius/USP/Semestres/2022 (01)/MQ Computacional/Projeto 5/prog/ex2/out/2-b.dat\"\n",
    "data_arr = np.loadtxt(data,skiprows=1)"
   ]
  },
  {
   "cell_type": "code",
   "execution_count": 42,
   "id": "1e5b4657-3f64-4cc2-8087-c21bb534885f",
   "metadata": {},
   "outputs": [],
   "source": [
    "x=data_arr[0]\n",
    "psi=data_arr[1:,:]\n",
    "Q_max = psi.shape[0]-1"
   ]
  },
  {
   "cell_type": "code",
   "execution_count": 29,
   "id": "1f718aee-b483-4f87-af15-eda52a1baeea",
   "metadata": {},
   "outputs": [],
   "source": [
    "import numpy as np\n",
    "import matplotlib.pyplot as plt\n",
    "import matplotlib.animation as animation\n",
    "# from matplotlib.animation import PillowWriter\n",
    "%matplotlib tk\n",
    "\n",
    "fig, ax = plt.subplots()\n",
    "\n",
    "# x = np.arange(0, 2*np.pi, 0.01)\n",
    "line, = ax.plot(x, 0*x)\n",
    "\n",
    "\n",
    "\n",
    "def animate(i):\n",
    "    line.set_ydata(psi[i,:])  # update the data.\n",
    "    # if i==1:\n",
    "        # plt.pause(2)\n",
    "    return line,\n",
    "\n",
    "\n",
    "ani = animation.FuncAnimation(\n",
    "    fig, animate, interval=20, blit=True, save_count=Q_max)\n",
    "\n",
    "ax.set(xlim=(-30,30),ylim=(0,1.2),\n",
    "      ylabel=r\"$|\\psi(x,t)|^2$ [U.A.]\",xlabel=\"$x$ [U.A.]\")\n",
    "ax.grid(True)\n",
    "line.set_color(\"black\")\n",
    "# line.set_label(r\"$\\langle n \\rangle = 1$\")\n",
    "# ax.legend()\n",
    "# To save the animation, use e.g.\n",
    "#\n",
    "# ani.save(\"movie.mp4\")\n",
    "#\n",
    "# or\n",
    "#\n",
    "# writer = animation.FFMpegWriter(\n",
    "#     fps=15, metadata=dict(artist='Me'), bitrate=1800)\n",
    "# ani.save(\"movie.mp4\", writer=writer)\n",
    "# plt.pause(0.99)\n",
    "ani.save(\"teste.gif\", fps=20)\n",
    "\n",
    "# plt.pause(1)\n",
    "# plt.show()\n",
    "plt.close()"
   ]
  },
  {
   "cell_type": "code",
   "execution_count": 47,
   "id": "4ce4edca-ea90-4146-840b-0e9aa3255b83",
   "metadata": {},
   "outputs": [],
   "source": [
    "dt=1e-4\n",
    "j=40\n",
    "t=j*dt\n",
    "fig,ax = plt.subplots()\n",
    "ax.plot(x,psi[j,:],label=fr\"$t={t}$\",c=\"k\")\n",
    "ax.set(xlim=(-30,30),ylim=(0,1.2),\n",
    "      ylabel=r\"$|\\psi(x,t)|^2$ [U.A.]\",xlabel=\"$x$ [U.A.]\")\n",
    "ax.grid(True)\n",
    "ax.legend()\n",
    "fig.savefig(f\"ex2/2-b_t{t}.pdf\",bbox_inches=\"tight\")"
   ]
  },
  {
   "cell_type": "markdown",
   "id": "35bf8dc4-b2cf-4bc6-9b3a-0da39932a5cc",
   "metadata": {},
   "source": [
    "# Extra"
   ]
  },
  {
   "cell_type": "code",
   "execution_count": 51,
   "id": "1eacb725-7236-4660-80d8-ebc96906a258",
   "metadata": {},
   "outputs": [],
   "source": [
    "data = r\"/home/vinicius/Vinicius/USP/Semestres/2022 (01)/MQ Computacional/Projeto 5/prog/ex2/out/psi_x_t.dat\"\n",
    "data_arr = np.loadtxt(data,skiprows=1)"
   ]
  },
  {
   "cell_type": "code",
   "execution_count": 52,
   "id": "d7796fa9-1658-4bad-a698-5079ab23f8b2",
   "metadata": {},
   "outputs": [],
   "source": [
    "x=data_arr[0]\n",
    "psi=data_arr[1:,:]\n",
    "Q_max = psi.shape[0]-1"
   ]
  },
  {
   "cell_type": "code",
   "execution_count": 53,
   "id": "aa44707d-e7ac-40f4-b95c-6f07c23d47c3",
   "metadata": {},
   "outputs": [],
   "source": [
    "import numpy as np\n",
    "import matplotlib.pyplot as plt\n",
    "import matplotlib.animation as animation\n",
    "# from matplotlib.animation import PillowWriter\n",
    "%matplotlib tk\n",
    "\n",
    "fig, ax = plt.subplots()\n",
    "\n",
    "# x = np.arange(0, 2*np.pi, 0.01)\n",
    "line, = ax.plot(x, 0*x)\n",
    "\n",
    "\n",
    "\n",
    "def animate(i):\n",
    "    line.set_ydata(psi[i,:])  # update the data.\n",
    "    # if i==1:\n",
    "        # plt.pause(2)\n",
    "    return line,\n",
    "\n",
    "\n",
    "ani = animation.FuncAnimation(\n",
    "    fig, animate, interval=20, blit=True, save_count=Q_max)\n",
    "\n",
    "ax.set(xlim=(-30,30),ylim=(0,1.2),\n",
    "      ylabel=r\"$|\\psi(x,t)|^2$ [U.A.]\",xlabel=\"$x$ [U.A.]\")\n",
    "ax.grid(True)\n",
    "line.set_color(\"black\")\n",
    "# line.set_label(r\"$\\langle n \\rangle = 1$\")\n",
    "# ax.legend()\n",
    "# To save the animation, use e.g.\n",
    "#\n",
    "# ani.save(\"movie.mp4\")\n",
    "#\n",
    "# or\n",
    "#\n",
    "# writer = animation.FFMpegWriter(\n",
    "#     fps=15, metadata=dict(artist='Me'), bitrate=1800)\n",
    "# ani.save(\"movie.mp4\", writer=writer)\n",
    "# plt.pause(0.99)\n",
    "ani.save(\"teste.gif\", fps=20)\n",
    "\n",
    "# plt.pause(1)\n",
    "# plt.show()\n",
    "plt.close()"
   ]
  },
  {
   "cell_type": "code",
   "execution_count": 56,
   "id": "daf48447-bb8d-4a8d-a4a8-bf253f543d47",
   "metadata": {},
   "outputs": [],
   "source": [
    "dt=1e-4\n",
    "j=150\n",
    "t=j*dt\n",
    "fig,ax = plt.subplots()\n",
    "ax.plot(x,psi[j,:],label=fr\"$t={t}$\",c=\"k\")\n",
    "ax.set(xlim=(-30,30),ylim=(0,1.2),\n",
    "      ylabel=r\"$|\\psi(x,t)|^2$ [U.A.]\",xlabel=\"$x$ [U.A.]\")\n",
    "ax.grid(True)\n",
    "ax.legend()\n",
    "fig.savefig(f\"ex2/2-c_t{t}.pdf\",bbox_inches=\"tight\")"
   ]
  }
 ],
 "metadata": {
  "kernelspec": {
   "display_name": "Python 3 (ipykernel)",
   "language": "python",
   "name": "python3"
  },
  "language_info": {
   "codemirror_mode": {
    "name": "ipython",
    "version": 3
   },
   "file_extension": ".py",
   "mimetype": "text/x-python",
   "name": "python",
   "nbconvert_exporter": "python",
   "pygments_lexer": "ipython3",
   "version": "3.9.12"
  }
 },
 "nbformat": 4,
 "nbformat_minor": 5
}
